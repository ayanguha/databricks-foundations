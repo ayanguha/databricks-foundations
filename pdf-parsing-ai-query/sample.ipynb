{
 "cells": [
  {
   "cell_type": "code",
   "execution_count": 0,
   "metadata": {
    "application/vnd.databricks.v1+cell": {
     "cellMetadata": {
      "byteLimit": 2048000,
      "rowLimit": 10000
     },
     "inputWidgets": {},
     "nuid": "79aa057e-ff4f-4e66-a17a-1c94d28eb550",
     "showTitle": false,
     "tableResultSettingsMap": {},
     "title": ""
    }
   },
   "outputs": [],
   "source": [
    "%pip install pdf2image==1.16.0  unidecode==1.3.6 beautifulsoup4==4.10.0 PyPDF2==3.0.1\n"
   ]
  },
  {
   "cell_type": "code",
   "execution_count": 0,
   "metadata": {
    "application/vnd.databricks.v1+cell": {
     "cellMetadata": {
      "byteLimit": 2048000,
      "rowLimit": 10000
     },
     "inputWidgets": {},
     "nuid": "5cc66d02-0160-4f37-8abc-4dedcae8278b",
     "showTitle": false,
     "tableResultSettingsMap": {},
     "title": ""
    }
   },
   "outputs": [],
   "source": [
    "dbutils.library.restartPython()"
   ]
  },
  {
   "cell_type": "code",
   "execution_count": 0,
   "metadata": {
    "application/vnd.databricks.v1+cell": {
     "cellMetadata": {
      "byteLimit": 2048000,
      "rowLimit": 10000
     },
     "inputWidgets": {},
     "nuid": "b514b2b2-806e-49a1-b1ed-393ee1f3c6cb",
     "showTitle": false,
     "tableResultSettingsMap": {},
     "title": ""
    }
   },
   "outputs": [],
   "source": [
    "def get_pdf_text(content):\n",
    "    from PyPDF2 import PdfReader\n",
    "    from io import BytesIO\n",
    "    pdf = PdfReader(BytesIO(content))\n",
    "    page_texts = [pdf.pages[n].extract_text()  for n in range(len(pdf.pages))]\n",
    "    return '-------page break ------'.join(page_texts)\n"
   ]
  },
  {
   "cell_type": "code",
   "execution_count": 0,
   "metadata": {
    "application/vnd.databricks.v1+cell": {
     "cellMetadata": {
      "byteLimit": 2048000,
      "rowLimit": 10000
     },
     "inputWidgets": {},
     "nuid": "d8540332-d7d0-40af-9057-7fe7e7ac35cc",
     "showTitle": false,
     "tableResultSettingsMap": {},
     "title": ""
    }
   },
   "outputs": [],
   "source": [
    "\n",
    "\n",
    "from pyspark.sql.functions import *\n",
    "from pyspark.sql.types import StringType\n",
    "\n",
    "\n",
    "get_pdf_text_udf = udf(get_pdf_text, StringType())\n",
    "\n",
    "\n"
   ]
  },
  {
   "cell_type": "code",
   "execution_count": 0,
   "metadata": {
    "application/vnd.databricks.v1+cell": {
     "cellMetadata": {
      "byteLimit": 2048000,
      "rowLimit": 10000
     },
     "inputWidgets": {},
     "nuid": "b69b6160-864d-418c-855c-d14a5891f59b",
     "showTitle": false,
     "tableResultSettingsMap": {},
     "title": ""
    }
   },
   "outputs": [],
   "source": [
    "df = spark.read.format(\"binaryFile\").load('/Volumes/workspace/default/data/origin-statement-2025-09-24.pdf')\n",
    "\n",
    "\n",
    "pdf_df = df.withColumn('text_content', get_pdf_text_udf('content'))\n",
    "pdf_df.createOrReplaceTempView('pdf_df')"
   ]
  },
  {
   "cell_type": "code",
   "execution_count": 0,
   "metadata": {
    "application/vnd.databricks.v1+cell": {
     "cellMetadata": {
      "byteLimit": 2048000,
      "rowLimit": 10000
     },
     "inputWidgets": {},
     "nuid": "1e93095e-f9e4-42c9-b288-fe9351b6762d",
     "showTitle": false,
     "tableResultSettingsMap": {},
     "title": ""
    }
   },
   "outputs": [],
   "source": [
    "from pyspark.sql.functions import replace, lit, format_string\n",
    "\n",
    "definition_promot = '''You are a text analyst who needs to extract entities and information from the data given below\n",
    "    '''\n",
    "data_content_prompt = '''\n",
    "    ##### Data starts here ######\n",
    "    %s\n",
    "    ##### Data ends here ######\n",
    "'''\n",
    "\n",
    "instructions_prompt = '''\n",
    "    Extract following information from the data: \n",
    "    - Name of the person\n",
    "    - Address\n",
    "    - Total Amount Due\n",
    "    - Invoice Date\n",
    "    - Due Date\n",
    "    - List of Billing Periods: Period Start Data, Period End Date, kWh consumed\n",
    "    - Total kWh consumed\n",
    "    - Total Amount Due\n",
    "'''\n",
    "\n",
    "return_format_prompt = '''\n",
    "    Return the information in the following format:\n",
    "    {'name': '',\n",
    "     'address': '',\n",
    "     'total_amount_due': '',\n",
    "     'invoice_date': '',\n",
    "     'due_date': '',\n",
    "     'billing_periods': [{'period_start_date': '', 'period_end_date': '', 'kwh_consumed': ''}, ...]'''\n",
    "\n",
    "guard_rail_prompt = '''\n",
    "    ### Important Instructions ###\n",
    "    - Do not hallucinate any information\n",
    "    - Do not add anything to the format other than the information in the data\n",
    "    - Do not add any text before or after the format above as this needs to be parsed by a program'''\n",
    "\n",
    "combined_prompt = definition_promot + data_content_prompt + instructions_prompt + return_format_prompt + guard_rail_prompt\n",
    "\n",
    "\n",
    "add_prompt_df = pdf_df.withColumn('model_input', \n",
    "                              format_string(lit(combined_prompt), \n",
    "                                            pdf_df.text_content) \n",
    "                              )                               \n",
    "\n",
    "add_prompt_df.createOrReplaceTempView('add_prompt_df')\n",
    "\n",
    "parsed_df = spark.sql('''\n",
    "SELECT ai_query('databricks-meta-llama-3-3-70b-instruct', model_input) AS ai_response, *\n",
    "FROM add_prompt_df\n",
    "''')\n"
   ]
  },
  {
   "cell_type": "code",
   "execution_count": 0,
   "metadata": {
    "application/vnd.databricks.v1+cell": {
     "cellMetadata": {
      "byteLimit": 2048000,
      "implicitDf": true,
      "rowLimit": 10000
     },
     "inputWidgets": {},
     "nuid": "941b5f5f-caca-42b3-a10d-4c27a07c5826",
     "showTitle": false,
     "tableResultSettingsMap": {},
     "title": ""
    }
   },
   "outputs": [],
   "source": [
    "result = parsed_df.select('ai_response', 'path', 'modificationTime', 'length', 'text_content', 'model_input')\\\n",
    "    .withColumn('ai_response', \n",
    "                from_json('ai_response', \n",
    "                          'name string, address string, total_amount_due string, invoice_date string, due_date string, total_kwh_consumed string, billing_periods string'))\\\n",
    "    .withColumn('name', col('ai_response.name'))\\\n",
    "    .withColumn('address', col('ai_response.address'))\\\n",
    "    .withColumn('total_amount_due', col('ai_response.total_amount_due'))\\\n",
    "    .withColumn('invoice_date', col('ai_response.invoice_date'))\\\n",
    "    .withColumn('due_date', col('ai_response.due_date'))\\\n",
    "    .withColumn('total_kwh_consumed', col('ai_response.total_kwh_consumed'))\\\n",
    "    .withColumn('billing_periods', \n",
    "                from_json('ai_response.billing_periods', \n",
    "                          'array<struct<period_start_date: string, period_end_date: string, kwh_consumed: string>>'))\\\n",
    "    .drop('ai_response')\n",
    "\n",
    "result.write.mode('overwrite').saveAsTable('origin_statement_details')\n",
    "\n"
   ]
  },
  {
   "cell_type": "code",
   "execution_count": 0,
   "metadata": {
    "application/vnd.databricks.v1+cell": {
     "cellMetadata": {
      "byteLimit": 2048000,
      "implicitDf": true,
      "rowLimit": 10000
     },
     "inputWidgets": {},
     "nuid": "37fd39bc-ff83-4065-a351-8d1400eb0713",
     "showTitle": false,
     "tableResultSettingsMap": {
      "0": {
       "dataGridStateBlob": "{\"version\":1,\"tableState\":{\"columnPinning\":{\"left\":[\"#row_number#\"],\"right\":[]},\"columnSizing\":{\"text_content\":798},\"columnVisibility\":{}},\"settings\":{\"columns\":{}},\"syncTimestamp\":1759039315196}",
       "filterBlob": null,
       "queryPlanFiltersBlob": null,
       "tableResultIndex": 0
      }
     },
     "title": ""
    }
   },
   "outputs": [],
   "source": [
    "%sql\n",
    "\n",
    "select text_content from origin_statement_details"
   ]
  },
  {
   "cell_type": "code",
   "execution_count": 0,
   "metadata": {
    "application/vnd.databricks.v1+cell": {
     "cellMetadata": {},
     "inputWidgets": {},
     "nuid": "949ef01b-d8a9-4efe-aaf2-0eaaf48b8ab6",
     "showTitle": false,
     "tableResultSettingsMap": {},
     "title": ""
    }
   },
   "outputs": [],
   "source": []
  }
 ],
 "metadata": {
  "application/vnd.databricks.v1+notebook": {
   "computePreferences": null,
   "dashboards": [],
   "environmentMetadata": {
    "base_environment": "",
    "environment_version": "3"
   },
   "inputWidgetPreferences": null,
   "language": "python",
   "notebookMetadata": {
    "mostRecentlyExecutedCommandWithImplicitDF": {
     "commandId": 5425774358458335,
     "dataframes": [
      "_sqldf"
     ]
    },
    "pythonIndentUnit": 4
   },
   "notebookName": "sample",
   "widgets": {}
  },
  "language_info": {
   "name": "python"
  }
 },
 "nbformat": 4,
 "nbformat_minor": 0
}
